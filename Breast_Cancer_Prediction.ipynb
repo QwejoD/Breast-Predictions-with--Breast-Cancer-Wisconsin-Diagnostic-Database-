{
 "cells": [
  {
   "cell_type": "code",
   "execution_count": null,
   "id": "885457ad",
   "metadata": {},
   "outputs": [],
   "source": [
    "'''This project was achieved by reading and folowing some major steps in the book,\n",
    "\n",
    "\"Python Machine Learning Projects\n",
    "Written by Lisa Tagliaferri, Michelle Morales, Ellie Birbeck, and\n",
    "Alvin Wan, with editing by Brian Hogan and Mark Dra\"\n",
    "\n",
    "'''"
   ]
  },
  {
   "cell_type": "code",
   "execution_count": null,
   "id": "57297b01",
   "metadata": {},
   "outputs": [],
   "source": []
  },
  {
   "cell_type": "code",
   "execution_count": 3,
   "id": "b2d500e3",
   "metadata": {},
   "outputs": [],
   "source": [
    "'''This Project is scikit-learn based and the dataset being used is the\n",
    "Breast cancer Wisconsin Diagnostic Database. \n",
    "it includes information about breast cancer tumors and classification labels of \n",
    "malignant and benign. '''\n",
    "\n",
    "#Begin by importing the dataset from scikit-learn\n",
    "\n",
    "from sklearn.datasets import load_breast_cancer\n",
    "\n",
    "# Loading of dataset \n",
    "\n",
    "data = load_breast_cancer()\n"
   ]
  },
  {
   "cell_type": "code",
   "execution_count": null,
   "id": "0a2ef594",
   "metadata": {},
   "outputs": [],
   "source": []
  },
  {
   "cell_type": "code",
   "execution_count": 4,
   "id": "5879cccc",
   "metadata": {},
   "outputs": [],
   "source": [
    "'''The important dictionary keys to consider are the\n",
    "classification label names (target_names), the actual labels (target),\n",
    "the attribute/feature names (feature_names), and the attributes\n",
    "(data)'''\n",
    "\n",
    "#Organizing the data \n",
    "\n",
    "label_names =data['target_names']\n",
    "\n",
    "labels =data['target']\n",
    "\n",
    "feature_names =data['feature_names']\n",
    "\n",
    "features =data['data']\n"
   ]
  },
  {
   "cell_type": "code",
   "execution_count": 5,
   "id": "c1a4a222",
   "metadata": {},
   "outputs": [
    {
     "name": "stdout",
     "output_type": "stream",
     "text": [
      "['malignant' 'benign']\n",
      "[0 0 0 0 0 0 0]\n",
      "['mean radius']\n",
      "[[1.799e+01 1.038e+01 1.228e+02 1.001e+03 1.184e-01 2.776e-01 3.001e-01\n",
      "  1.471e-01 2.419e-01 7.871e-02 1.095e+00 9.053e-01 8.589e+00 1.534e+02\n",
      "  6.399e-03 4.904e-02 5.373e-02 1.587e-02 3.003e-02 6.193e-03 2.538e+01\n",
      "  1.733e+01 1.846e+02 2.019e+03 1.622e-01 6.656e-01 7.119e-01 2.654e-01\n",
      "  4.601e-01 1.189e-01]]\n"
     ]
    }
   ],
   "source": [
    "# Visualizing the data \n",
    "print(label_names)\n",
    "print(labels[0:7])\n",
    "print(feature_names[0:1])\n",
    "print(features[0:1])"
   ]
  },
  {
   "cell_type": "code",
   "execution_count": null,
   "id": "0392b76e",
   "metadata": {},
   "outputs": [],
   "source": [
    " '''\n",
    " By visualizing the data, label_names is clearly the dependent variable\n",
    " class names are malignant and benign. Mapped to 0 and 1 respectively\n",
    " 0 == malignant \n",
    " 1 == benign \n",
    " '''\n"
   ]
  },
  {
   "cell_type": "code",
   "execution_count": 6,
   "id": "a728c230",
   "metadata": {},
   "outputs": [],
   "source": [
    "'''After data visualization, the Data is then slipt into training and test data\n",
    "\n",
    "The model for spliting the data \"train_test_split\" from scikit-learn was used \n",
    "\n",
    "X= independet variables \n",
    "y= dependent variables \n",
    "'''\n",
    "\n",
    "from sklearn.model_selection import train_test_split\n",
    "\n",
    "X_train,X_test, y_train_labels, y_test_labels = train_test_split(features, labels, test_size=0.2, random_state=42)\n",
    "\n"
   ]
  },
  {
   "cell_type": "code",
   "execution_count": null,
   "id": "65525bd4",
   "metadata": {},
   "outputs": [],
   "source": [
    "# A test size that represent 20% of the original data has been created \n",
    "# the remaining 80% represent the training set "
   ]
  },
  {
   "cell_type": "code",
   "execution_count": 7,
   "id": "bd7bf904",
   "metadata": {},
   "outputs": [],
   "source": [
    "''' The alogorithm for binary classification task \"Naive Bayes(NB)\"\n",
    "was used \n",
    "\n",
    "'''\n",
    "\n",
    "from sklearn.naive_bayes import GaussianNB\n",
    "\n",
    "# classifier initializing \n",
    "\n",
    "gnb = GaussianNB()"
   ]
  },
  {
   "cell_type": "code",
   "execution_count": 8,
   "id": "d156691f",
   "metadata": {},
   "outputs": [],
   "source": [
    "# fiting the train data to the classifier(model)\n",
    "\n",
    "model = gnb.fit(X_train, y_train_labels)\n",
    "\n",
    "\n"
   ]
  },
  {
   "cell_type": "code",
   "execution_count": 9,
   "id": "68e7c31e",
   "metadata": {},
   "outputs": [],
   "source": [
    "# Using the trained model to make predictions \n",
    "# predictions were made using the test dataset\n",
    "\n",
    "preds = model.predict(X_test)"
   ]
  },
  {
   "cell_type": "code",
   "execution_count": 10,
   "id": "518ca4d8",
   "metadata": {},
   "outputs": [
    {
     "name": "stdout",
     "output_type": "stream",
     "text": [
      "[1 0 0 1 1 0 0 0 1 1 1 0 1 0 1 0 1 1 1 0 1 1 0 1 1 1 1 1 1 0 1 1 1 1 1 1 0\n",
      " 1 0 1 1 0 1 1 1 1 1 1 1 1 0 0 1 1 1 1 1 0 0 1 1 0 0 1 1 1 0 0 1 1 0 0 1 0\n",
      " 1 1 1 1 1 1 0 1 1 0 0 0 0 0 1 1 1 1 1 1 1 1 0 0 1 0 0 1 0 0 1 1 1 0 1 1 0\n",
      " 1 1 0]\n"
     ]
    }
   ],
   "source": [
    "print(preds)\n",
    "\n",
    "# Output is an array for each tumor class predicted \n",
    "# 1 = benign and 0 = malignant "
   ]
  },
  {
   "cell_type": "code",
   "execution_count": 11,
   "id": "00676a62",
   "metadata": {},
   "outputs": [
    {
     "name": "stdout",
     "output_type": "stream",
     "text": [
      "0.9736842105263158\n"
     ]
    }
   ],
   "source": [
    "'''Evaluation of model's Accuracy \n",
    "The scikit learn fxn accurary_score() computes the accuracy of the model\n",
    "\n",
    "Model accuracy is done by comparing the output labels predicted by the model and \n",
    "the true labels form the imported dataset which has been assigned to y_test_labels\n",
    "\n",
    "'''\n",
    "\n",
    "from sklearn.metrics import accuracy_score\n",
    "\n",
    "accuracy = accuracy_score(y_test_labels,preds)\n",
    "\n",
    "print(accuracy)\n",
    "\n",
    " "
   ]
  },
  {
   "cell_type": "code",
   "execution_count": null,
   "id": "95eacc12",
   "metadata": {},
   "outputs": [],
   "source": [
    "# An accuracy of 0.9736 was obtained "
   ]
  },
  {
   "cell_type": "code",
   "execution_count": null,
   "id": "fc0be7c4",
   "metadata": {},
   "outputs": [],
   "source": []
  },
  {
   "cell_type": "code",
   "execution_count": null,
   "id": "487fe98f",
   "metadata": {},
   "outputs": [],
   "source": []
  }
 ],
 "metadata": {
  "kernelspec": {
   "display_name": "Python 3",
   "language": "python",
   "name": "python3"
  },
  "language_info": {
   "codemirror_mode": {
    "name": "ipython",
    "version": 3
   },
   "file_extension": ".py",
   "mimetype": "text/x-python",
   "name": "python",
   "nbconvert_exporter": "python",
   "pygments_lexer": "ipython3",
   "version": "3.8.8"
  }
 },
 "nbformat": 4,
 "nbformat_minor": 5
}
